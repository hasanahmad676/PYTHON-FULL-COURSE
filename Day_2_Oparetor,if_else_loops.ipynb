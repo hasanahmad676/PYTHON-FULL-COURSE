{
  "nbformat": 4,
  "nbformat_minor": 0,
  "metadata": {
    "colab": {
      "provenance": []
    },
    "kernelspec": {
      "name": "python3",
      "display_name": "Python 3"
    },
    "language_info": {
      "name": "python"
    }
  },
  "cells": [
    {
      "cell_type": "code",
      "execution_count": null,
      "metadata": {
        "id": "mmFNFtwzwLxX"
      },
      "outputs": [],
      "source": []
    },
    {
      "cell_type": "markdown",
      "source": [
        "#Operators in Python\n",
        "\n",
        "1. Arithmetic Operators\n",
        "2. Relational Operators\n",
        "3. Logical Operators\n",
        "4. Bitwise Operators\n",
        "5. Assignment Operators\n",
        "6. Membership Operators\n",
        "\n"
      ],
      "metadata": {
        "id": "LtQnsIMTwdvP"
      }
    },
    {
      "cell_type": "code",
      "source": [
        "# Arithmetric Operators\n",
        "print(5+6) # Additon\n",
        "\n",
        "print(5-6) # substraction\n",
        "\n",
        "print(5*6) # multipication\n",
        "\n",
        "print(5/2) # divison\n",
        "\n",
        "print(5//2) # integer division\n",
        "\n",
        "print(5%2) # modulus \n",
        "\n",
        "print(5**2) # power of operator"
      ],
      "metadata": {
        "colab": {
          "base_uri": "https://localhost:8080/"
        },
        "id": "-6aA1PXzwY8g",
        "outputId": "bc499a7a-0f66-4043-cc8d-c8dc1b3be1e5"
      },
      "execution_count": null,
      "outputs": [
        {
          "output_type": "stream",
          "name": "stdout",
          "text": [
            "11\n",
            "-1\n",
            "30\n",
            "2.5\n",
            "2\n",
            "1\n",
            "25\n"
          ]
        }
      ]
    },
    {
      "cell_type": "code",
      "source": [
        "# Relational Operators\n",
        "print(4>5) # greater than \n",
        "\n",
        "print(4<5) # less than \n",
        "\n",
        "print(4>=4) # greater than or qual to\n",
        "\n",
        "print(4<=4) # less than or equal to\n",
        "\n",
        "print(4==4) # equal to\n",
        "\n",
        "print(4!=4) # not equal to"
      ],
      "metadata": {
        "colab": {
          "base_uri": "https://localhost:8080/"
        },
        "id": "h_ICmcNwwY_b",
        "outputId": "f3596050-9de0-4077-bff5-14db094700eb"
      },
      "execution_count": null,
      "outputs": [
        {
          "output_type": "stream",
          "name": "stdout",
          "text": [
            "False\n",
            "True\n",
            "True\n",
            "True\n",
            "True\n",
            "False\n"
          ]
        }
      ]
    },
    {
      "cell_type": "code",
      "source": [
        "# Logical Operators\n",
        "print(1 and 0)\n",
        "\n",
        "print(1 or 0)\n",
        "\n",
        "print(not 1)"
      ],
      "metadata": {
        "colab": {
          "base_uri": "https://localhost:8080/"
        },
        "id": "hKD76VlpwZCh",
        "outputId": "76cd9510-9baf-47d4-bf25-bb9ef9f3d578"
      },
      "execution_count": null,
      "outputs": [
        {
          "output_type": "stream",
          "name": "stdout",
          "text": [
            "0\n",
            "1\n",
            "False\n"
          ]
        }
      ]
    },
    {
      "cell_type": "code",
      "source": [
        "# Bitwise Operators\n",
        "\n",
        "# bitwise and\n",
        "print(2 & 3) # and operator\n",
        "\n",
        "# bitwise or\n",
        "print(2 | 3) # or operator\n",
        "\n",
        "# bitwise xor\n",
        "print(2 ^ 3) # power \n",
        "\n",
        "print(~3)\n",
        "\n",
        "print(4 >> 2)\n",
        "\n",
        "print(5 << 2)"
      ],
      "metadata": {
        "colab": {
          "base_uri": "https://localhost:8080/"
        },
        "id": "32yWaK63ySKu",
        "outputId": "5bfdcdb5-b60c-4dad-bb02-30fdccdc4905"
      },
      "execution_count": null,
      "outputs": [
        {
          "output_type": "stream",
          "name": "stdout",
          "text": [
            "2\n",
            "3\n",
            "1\n",
            "-4\n",
            "1\n",
            "20\n"
          ]
        }
      ]
    },
    {
      "cell_type": "code",
      "source": [
        "# Assignment Operators\n",
        "\n",
        "# = \n",
        "# a = 2\n",
        "\n",
        "a = 2\n",
        "\n",
        "# a = a % 2\n",
        "a %= 2\n",
        "\n",
        "# a++ ++a\n",
        "\n",
        "print(a)"
      ],
      "metadata": {
        "colab": {
          "base_uri": "https://localhost:8080/"
        },
        "id": "zwIAxIE7Crc_",
        "outputId": "f6240235-addd-49b9-b26e-9f89a6a1875b"
      },
      "execution_count": null,
      "outputs": [
        {
          "output_type": "stream",
          "name": "stdout",
          "text": [
            "0\n"
          ]
        }
      ]
    },
    {
      "cell_type": "code",
      "source": [
        "# Membership Operators\n",
        "\n",
        "# in/not in\n",
        "\n",
        "print('D' not in 'Delhi')\n",
        "\n",
        "print(1 in [2,3,4,5,6])"
      ],
      "metadata": {
        "colab": {
          "base_uri": "https://localhost:8080/"
        },
        "id": "stRkSnk3Csb8",
        "outputId": "743dd9c8-c76b-4bba-a9a4-84d7fac08285"
      },
      "execution_count": null,
      "outputs": [
        {
          "output_type": "stream",
          "name": "stdout",
          "text": [
            "False\n",
            "False\n"
          ]
        }
      ]
    },
    {
      "cell_type": "code",
      "source": [
        "# Program - Find the sum of a 3 digit number entered by the user\n",
        "\n",
        "number = int(input('Enter a 3 digit number'))\n",
        "\n",
        "# 345%10 -> 5\n",
        "a = number%10\n",
        "\n",
        "number = number//10\n",
        "\n",
        "# 34%10 -> 4\n",
        "b = number % 10\n",
        "\n",
        "number = number//10\n",
        "# 3 % 10 -> 3\n",
        "c = number % 10\n",
        "\n",
        "print(a + b + c)"
      ],
      "metadata": {
        "colab": {
          "base_uri": "https://localhost:8080/"
        },
        "id": "h9me2f1vCwNy",
        "outputId": "e9dfc807-6e45-4b25-c8d0-d3127b6c855f"
      },
      "execution_count": null,
      "outputs": [
        {
          "output_type": "stream",
          "name": "stdout",
          "text": [
            "Enter a 3 digit number234\n",
            "9\n"
          ]
        }
      ]
    },
    {
      "cell_type": "code",
      "source": [
        "print('+' in \"+c\")"
      ],
      "metadata": {
        "colab": {
          "base_uri": "https://localhost:8080/"
        },
        "id": "jlGXyN3aC2GL",
        "outputId": "deed3581-7131-40c0-a091-afe645e93a86"
      },
      "execution_count": null,
      "outputs": [
        {
          "output_type": "stream",
          "name": "stdout",
          "text": [
            "True\n"
          ]
        }
      ]
    },
    {
      "cell_type": "code",
      "source": [],
      "metadata": {
        "id": "BDUHNnW_E54X"
      },
      "execution_count": null,
      "outputs": []
    },
    {
      "cell_type": "markdown",
      "source": [
        "# if/else\n"
      ],
      "metadata": {
        "id": "ZGmobwveGg-s"
      }
    },
    {
      "cell_type": "code",
      "source": [
        "# login program and indentation\n",
        "# email -> nitish.campusx@gmail.com\n",
        "# password -> 1234\n",
        "\n",
        "email = input('enter email')\n",
        "password = input('enter password')\n",
        "\n",
        "if email == 'nitish.campusx@gmail.com' and password == '1234':\n",
        "  print('Welcome')\n",
        "elif email == 'nitish.campusx@gmail.com' and password != '1234':\n",
        "  # tell the user\n",
        "  print('Incorrect password')\n",
        "  password = input('enter password again')\n",
        "  if password == '1234':\n",
        "    print('Welcome,finally!')\n",
        "  else:\n",
        "    print('beta tumse na ho paayega!')\n",
        "else:\n",
        "  print('Not correct')"
      ],
      "metadata": {
        "colab": {
          "base_uri": "https://localhost:8080/"
        },
        "id": "aaRRWsSAGkD2",
        "outputId": "b5230f9c-afb1-4dfe-c85d-90cfa0fa79b4"
      },
      "execution_count": null,
      "outputs": [
        {
          "output_type": "stream",
          "name": "stdout",
          "text": [
            "enter emailnitish.campusx@gmail.com\n",
            "enter password1234\n",
            "Welcome\n"
          ]
        }
      ]
    },
    {
      "cell_type": "code",
      "source": [
        "# if-else examples\n",
        "# 1. Find the min of 3 given numbers\n",
        "# 2. Menu Driven Program"
      ],
      "metadata": {
        "id": "1mmx7xSkGmGA"
      },
      "execution_count": null,
      "outputs": []
    },
    {
      "cell_type": "code",
      "source": [
        "# min of 3 number\n",
        "\n",
        "a = int(input('first num'))\n",
        "b = int(input('second num'))\n",
        "c = int(input('third num'))\n",
        "\n",
        "if a<b and a<c:\n",
        "  print('smallest is',a)\n",
        "elif b<c:\n",
        "  print('smallest is',b)\n",
        "else:\n",
        "  print('smallest is',c)"
      ],
      "metadata": {
        "colab": {
          "base_uri": "https://localhost:8080/"
        },
        "id": "PFthvbl3GmIw",
        "outputId": "8ae8191a-38fe-49ab-bd6e-f1241e38f144"
      },
      "execution_count": null,
      "outputs": [
        {
          "output_type": "stream",
          "name": "stdout",
          "text": [
            "first num1\n",
            "second num2\n",
            "third num3\n",
            "smallest is 1\n"
          ]
        }
      ]
    },
    {
      "cell_type": "code",
      "source": [
        "# menu driven calculator\n",
        "menu = input(\"\"\"\n",
        "Hi! how can I help you.\n",
        "1. Enter 1 for pin change\n",
        "2. Enter 2 for balance check\n",
        "3. Enter 3 for withdrawl\n",
        "4. Enter 4 for exit\n",
        "\"\"\")\n",
        "\n",
        "if menu == '1':\n",
        "  print('pin change')\n",
        "elif menu == '2':\n",
        "  print('balance')\n",
        "else:\n",
        "  print('exit')"
      ],
      "metadata": {
        "colab": {
          "base_uri": "https://localhost:8080/"
        },
        "id": "UJWUnRakGmLk",
        "outputId": "24454a40-3842-4050-da97-b27eee1e26a4"
      },
      "execution_count": null,
      "outputs": [
        {
          "output_type": "stream",
          "name": "stdout",
          "text": [
            "\n",
            "Hi! how can I help you.\n",
            "1. Enter 1 for pin change\n",
            "2. Enter 2 for balance check\n",
            "3. Enter 3 for withdrawl\n",
            "4. Enter 4 for exit\n",
            "1\n",
            "pin change\n"
          ]
        }
      ]
    },
    {
      "cell_type": "code",
      "source": [
        "email=input(\"enter  mail: \")\n",
        "password = input(\"entaer password: \")\n",
        "if email == \"hasan15-3160@diu.edu.bd\" and password == \"1234\" :\n",
        "  print(\"your login is successfull\")\n",
        "elif email== \"hasan15-3160@diu.edu.bd\" and password != \"1234\":\n",
        "  print(\"you have enter wrong password\")\n",
        "  password=input(\"enter pass again\")\n",
        "  if password==\"1234\":\n",
        "    print(\"your login is successfull\")\n",
        "  else:\n",
        "    print(\"wrong password again\")\n",
        "else:\n",
        "  print(\"you have entered wrong password\")\n",
        "     \n",
        "\n"
      ],
      "metadata": {
        "colab": {
          "base_uri": "https://localhost:8080/"
        },
        "id": "Wtut8vvcH792",
        "outputId": "76811b0c-4e14-4228-b847-5be0a9d0bb83"
      },
      "execution_count": null,
      "outputs": [
        {
          "output_type": "stream",
          "name": "stdout",
          "text": [
            "enter  mail: hasan15-3160@diu.edu.bd\n",
            "entaer password: 123\n",
            "you have enter wrong password\n",
            "enter pass again1234\n",
            "your login is successfull\n"
          ]
        }
      ]
    },
    {
      "cell_type": "markdown",
      "source": [
        "#Modules in Python\n",
        "*   math\n",
        "*   keywords\n",
        "*   random\n",
        "*   random\n",
        "*  datetime\n",
        "\n"
      ],
      "metadata": {
        "id": "ov1SLvYn5RCZ"
      }
    },
    {
      "cell_type": "code",
      "source": [
        "# math\n",
        "import math\n",
        "\n",
        "math.sqrt(196)"
      ],
      "metadata": {
        "id": "SHWBe9i-Naqy",
        "colab": {
          "base_uri": "https://localhost:8080/"
        },
        "outputId": "335674bf-b10a-4b36-f2ef-6a0ba3555979"
      },
      "execution_count": 1,
      "outputs": [
        {
          "output_type": "execute_result",
          "data": {
            "text/plain": [
              "14.0"
            ]
          },
          "metadata": {},
          "execution_count": 1
        }
      ]
    },
    {
      "cell_type": "code",
      "source": [
        "# keyword\n",
        "import keyword\n",
        "print(keyword.kwlist)"
      ],
      "metadata": {
        "colab": {
          "base_uri": "https://localhost:8080/"
        },
        "id": "1z7qZAsR5mWj",
        "outputId": "844571ad-668a-42be-d3da-81b41d016156"
      },
      "execution_count": 2,
      "outputs": [
        {
          "output_type": "stream",
          "name": "stdout",
          "text": [
            "['False', 'None', 'True', 'and', 'as', 'assert', 'async', 'await', 'break', 'class', 'continue', 'def', 'del', 'elif', 'else', 'except', 'finally', 'for', 'from', 'global', 'if', 'import', 'in', 'is', 'lambda', 'nonlocal', 'not', 'or', 'pass', 'raise', 'return', 'try', 'while', 'with', 'yield']\n"
          ]
        }
      ]
    },
    {
      "cell_type": "code",
      "source": [
        "# random\n",
        "import random\n",
        "print(random.randint(1,100))"
      ],
      "metadata": {
        "colab": {
          "base_uri": "https://localhost:8080/"
        },
        "id": "mvINKnm75poj",
        "outputId": "dc5ae538-2cee-44fd-be17-58afb5174316"
      },
      "execution_count": 3,
      "outputs": [
        {
          "output_type": "stream",
          "name": "stdout",
          "text": [
            "74\n"
          ]
        }
      ]
    },
    {
      "cell_type": "code",
      "source": [
        "# datetime\n",
        "import datetime\n",
        "print(datetime.datetime.now())"
      ],
      "metadata": {
        "colab": {
          "base_uri": "https://localhost:8080/"
        },
        "id": "8lSW0rQM5pvK",
        "outputId": "d1be84ec-c941-4f18-98db-7e06f64b5228"
      },
      "execution_count": 4,
      "outputs": [
        {
          "output_type": "stream",
          "name": "stdout",
          "text": [
            "2022-12-26 14:47:46.303496\n"
          ]
        }
      ]
    },
    {
      "cell_type": "code",
      "source": [
        "help('modules')"
      ],
      "metadata": {
        "colab": {
          "base_uri": "https://localhost:8080/"
        },
        "id": "LvxpeCwR5pyR",
        "outputId": "243cae94-e6b1-4d16-9d19-54bb7058f91e"
      },
      "execution_count": 5,
      "outputs": [
        {
          "output_type": "stream",
          "name": "stdout",
          "text": [
            "\n",
            "Please wait a moment while I gather a list of all available modules...\n",
            "\n"
          ]
        },
        {
          "output_type": "stream",
          "name": "stderr",
          "text": [
            "/usr/local/lib/python3.8/dist-packages/IPython/kernel/__init__.py:12: ShimWarning: The `IPython.kernel` package has been deprecated since IPython 4.0.You should import from ipykernel or jupyter_client instead.\n",
            "  warn(\"The `IPython.kernel` package has been deprecated since IPython 4.0.\"\n",
            "/usr/local/lib/python3.8/dist-packages/llvmlite/llvmpy/__init__.py:3: UserWarning: The module `llvmlite.llvmpy` is deprecated and will be removed in the future.\n",
            "  warnings.warn(\n",
            "/usr/local/lib/python3.8/dist-packages/llvmlite/llvmpy/core.py:8: UserWarning: The module `llvmlite.llvmpy.core` is deprecated and will be removed in the future. Equivalent functionality is provided by `llvmlite.ir`.\n",
            "  warnings.warn(\n",
            "WARNING: AstropyDeprecationWarning: The private astropy._erfa module has been made into its own package, pyerfa, which is a dependency of astropy and can be imported directly using \"import erfa\" [astropy._erfa]\n",
            "WARNING:astropy:AstropyDeprecationWarning: The private astropy._erfa module has been made into its own package, pyerfa, which is a dependency of astropy and can be imported directly using \"import erfa\"\n",
            "/usr/local/lib/python3.8/dist-packages/caffe2/__init__.py:5: UserWarning: Caffe2 support is not fully enabled in this PyTorch build. Please enable Caffe2 by building PyTorch from source with `BUILD_CAFFE2=1` flag.\n",
            "  warnings.warn(\"Caffe2 support is not fully enabled in this PyTorch build. \"\n",
            "/usr/local/lib/python3.8/dist-packages/caffe2/proto/__init__.py:17: UserWarning: Caffe2 support is not enabled in this PyTorch build. Please enable Caffe2 by building PyTorch from source with `BUILD_CAFFE2=1` flag.\n",
            "  warnings.warn('Caffe2 support is not enabled in this PyTorch build. '\n",
            "/usr/local/lib/python3.8/dist-packages/caffe2/proto/__init__.py:17: UserWarning: Caffe2 support is not enabled in this PyTorch build. Please enable Caffe2 by building PyTorch from source with `BUILD_CAFFE2=1` flag.\n",
            "  warnings.warn('Caffe2 support is not enabled in this PyTorch build. '\n",
            "/usr/local/lib/python3.8/dist-packages/caffe2/python/__init__.py:9: UserWarning: Caffe2 support is not enabled in this PyTorch build. Please enable Caffe2 by building PyTorch from source with `BUILD_CAFFE2=1` flag.\n",
            "  warnings.warn('Caffe2 support is not enabled in this PyTorch build. '\n",
            "/usr/local/lib/python3.8/dist-packages/torch/cuda/__init__.py:497: UserWarning:\n",
            "\n",
            "Can't initialize NVML\n",
            "\n",
            "/usr/local/lib/python3.8/dist-packages/past/types/oldstr.py:5: DeprecationWarning:\n",
            "\n",
            "Using or importing the ABCs from 'collections' instead of from 'collections.abc' is deprecated since Python 3.3, and in 3.10 it will stop working\n",
            "\n",
            "/usr/local/lib/python3.8/dist-packages/intervaltree/intervaltree.py:37: DeprecationWarning:\n",
            "\n",
            "Using or importing the ABCs from 'collections' instead of from 'collections.abc' is deprecated since Python 3.3, and in 3.10 it will stop working\n",
            "\n",
            "/usr/local/lib/python3.8/dist-packages/jupyter_client/ssh/tunnel.py:57: DeprecationWarning:\n",
            "\n",
            "zmq.utils.strtypes is deprecated in pyzmq 23.\n",
            "\n",
            "/usr/local/lib/python3.8/dist-packages/librosa/core/constantq.py:1059: DeprecationWarning:\n",
            "\n",
            "`np.complex` is a deprecated alias for the builtin `complex`. To silence this warning, use `complex` by itself. Doing this will not modify any behavior and is safe. If you specifically wanted the numpy scalar type, use `np.complex128` here.\n",
            "Deprecated in NumPy 1.20; for more details and guidance: https://numpy.org/devdocs/release/1.20.0-notes.html#deprecations\n",
            "\n"
          ]
        },
        {
          "output_type": "stream",
          "name": "stdout",
          "text": [
            "Downloading http://dlib.net/files/shape_predictor_68_face_landmarks.dat.bz2 to /root/mlxtend_data/shape_predictor_68_face_landmarks.dat.bz2\n"
          ]
        },
        {
          "output_type": "stream",
          "name": "stderr",
          "text": [
            "/usr/local/lib/python3.8/dist-packages/nbconvert/filters/strings.py:22: DeprecationWarning:\n",
            "\n",
            "defusedxml.cElementTree is deprecated, import from defusedxml.ElementTree instead.\n",
            "\n",
            "/usr/local/lib/python3.8/dist-packages/nibabel/quaternions.py:31: DeprecationWarning:\n",
            "\n",
            "`np.float` is a deprecated alias for the builtin `float`. To silence this warning, use `float` by itself. Doing this will not modify any behavior and is safe. If you specifically wanted the numpy scalar type, use `np.float64` here.\n",
            "Deprecated in NumPy 1.20; for more details and guidance: https://numpy.org/devdocs/release/1.20.0-notes.html#deprecations\n",
            "\n",
            "/usr/lib/python3.8/pkgutil.py:92: UserWarning:\n",
            "\n",
            "The DICOM readers are highly experimental, unstable, and only work for Siemens time-series at the moment\n",
            "Please use with caution.  We would be grateful for your help in improving them\n",
            "\n",
            "/usr/local/lib/python3.8/dist-packages/nltk/twitter/__init__.py:20: UserWarning:\n",
            "\n",
            "The twython library has not been installed. Some functionality from the twitter package will not be available.\n",
            "\n",
            "/usr/local/lib/python3.8/dist-packages/pip/_vendor/packaging/version.py:127: DeprecationWarning:\n",
            "\n",
            "Creating a LegacyVersion has been deprecated and will be removed in the next major release\n",
            "\n",
            "/usr/local/lib/python3.8/dist-packages/pip/_vendor/packaging/version.py:127: DeprecationWarning:\n",
            "\n",
            "Creating a LegacyVersion has been deprecated and will be removed in the next major release\n",
            "\n",
            "/usr/lib/python3.8/pkgutil.py:92: UserWarning: Viewer requires Qt\n",
            "/usr/local/lib/python3.8/dist-packages/sphinx/websupport/__init__.py:22: RemovedInSphinx20Warning: sphinx.websupport module is now provided as sphinxcontrib-websupport. sphinx.websupport will be removed at Sphinx-2.0. Please use the package instead.\n",
            "/usr/local/lib/python3.8/dist-packages/marshmallow/fields.py:573: RemovedInMarshmallow4Warning: The 'missing' argument to fields is deprecated. Use 'load_default' instead.\n",
            "/usr/local/lib/python3.8/dist-packages/tensorboard/_vendor/html5lib/filters/sanitizer.py:29: DeprecationWarning: html5lib's sanitizer is deprecated; see https://github.com/html5lib/html5lib-python/issues/443 and please let us know if Bleach is unsuitable for your needs\n",
            "/usr/local/lib/python3.8/dist-packages/torch/distributed/_sharded_tensor/__init__.py:8: DeprecationWarning: torch.distributed._sharded_tensor will be deprecated, use torch.distributed._shard.sharded_tensor instead\n",
            "/usr/local/lib/python3.8/dist-packages/torch/distributed/_sharding_spec/__init__.py:8: DeprecationWarning: torch.distributed._sharding_spec will be deprecated, use torch.distributed._shard.sharding_spec instead\n",
            "No CUDA runtime is found, using CUDA_HOME='/usr/local/cuda'\n",
            "/usr/lib/python3.8/pkgutil.py:107: VisibleDeprecationWarning: zmq.eventloop.minitornado is deprecated in pyzmq 14.0 and will be removed.\n",
            "    Install tornado itself to use zmq with the tornado IOLoop.\n",
            "    \n"
          ]
        },
        {
          "output_type": "stream",
          "name": "stdout",
          "text": [
            "Cython              collections         jupyterlab_plotly   reprlib\n",
            "IPython             colorcet            jupyterlab_widgets  requests\n",
            "OpenGL              colorlover          kaggle              requests_oauthlib\n",
            "PIL                 colorsys            kanren              resampy\n",
            "ScreenResolution    community           kapre               resource\n",
            "__future__          compileall          keras               rlcompleter\n",
            "_abc                concurrent          keras_preprocessing rmagic\n",
            "_ast                confection          keyword             rpy2\n",
            "_asyncio            configparser        kiwisolver          rsa\n",
            "_bisect             cons                korean_lunar_calendar runpy\n",
            "_blake2             contextlib          langcodes           sched\n",
            "_bootlocale         contextlib2         lib2to3             scipy\n",
            "_bz2                contextvars         libfuturize         scs\n",
            "_cffi_backend       convertdate         libpasteurize       seaborn\n",
            "_codecs             copy                librosa             secrets\n",
            "_codecs_cn          copyreg             lightgbm            select\n",
            "_codecs_hk          crashtest           linecache           selectors\n",
            "_codecs_iso2022     crcmod              llvmlite            send2trash\n",
            "_codecs_jp          crypt               lmdb                setuptools\n",
            "_codecs_kr          csimdjson           locale              setuptools_git\n",
            "_codecs_tw          csv                 locket              shapely\n",
            "_collections        ctypes              logging             shelve\n",
            "_collections_abc    cufflinks           lsb_release         shlex\n",
            "_compat_pickle      curses              lunarcalendar       shutil\n",
            "_compression        cv2                 lxml                signal\n",
            "_contextvars        cvxopt              lzma                simdjson\n",
            "_crypt              cvxpy               mailbox             site\n",
            "_csv                cycler              mailcap             sitecustomize\n",
            "_ctypes             cymem               markdown            six\n",
            "_ctypes_test        cython              markupsafe          skimage\n",
            "_curses             cythonmagic         marshal             sklearn\n",
            "_curses_panel       daft                marshmallow         sklearn_pandas\n",
            "_cvxcore            dask                math                slugify\n",
            "_datetime           dataclasses         matplotlib          smart_open\n",
            "_dbm                datascience         matplotlib_venn     smtpd\n",
            "_decimal            datetime            mimetypes           smtplib\n",
            "_distutils_hack     dateutil            missingno           sndhdr\n",
            "_dlib_pybind11      db_dtypes           mistune             snowballstemmer\n",
            "_dummy_thread       dbm                 mizani              socket\n",
            "_ecos               dbus                mlxtend             socketserver\n",
            "_elementtree        debugpy             mmap                socks\n",
            "_functools          decimal             modulefinder        sockshandler\n",
            "_hashlib            decorator           more_itertools      softwareproperties\n",
            "_heapq              defusedxml          moviepy             sortedcontainers\n",
            "_imp                descartes           mpmath              soundfile\n",
            "_io                 difflib             msgpack             spacy\n",
            "_json               dill                multidict           spacy_legacy\n",
            "_locale             dis                 multipledispatch    spacy_loggers\n",
            "_lsprof             distributed         multiprocessing     sphinx\n",
            "_lzma               distutils           multitasking        spwd\n",
            "_markupbase         dlib                murmurhash          sql\n",
            "_md5                dns                 music21             sqlalchemy\n",
            "_multibytecodec     docs                natsort             sqlite3\n",
            "_multiprocessing    doctest             nbconvert           sqlparse\n",
            "_opcode             docutils            nbformat            sre_compile\n",
            "_operator           dopamine            netCDF4             sre_constants\n",
            "_osx_support        dot_parser          netrc               sre_parse\n",
            "_pickle             dummy_threading     networkx            srsly\n",
            "_plotly_future_     easydict            nibabel             ssl\n",
            "_plotly_utils       ecos                nis                 stan\n",
            "_posixshmem         editdistance        nisext              stat\n",
            "_posixsubprocess    ee                  nltk                statistics\n",
            "_py_abc             email               nntplib             statsmodels\n",
            "_pydecimal          en_core_web_sm      notebook            storemagic\n",
            "_pyio               encodings           ntpath              string\n",
            "_pyrsistent_version entrypoints         nturl2path          stringprep\n",
            "_pytest             enum                numba               struct\n",
            "_queue              ephem               numbergen           subprocess\n",
            "_random             erfa                numbers             sunau\n",
            "_rinterface_cffi_abi errno               numexpr             symbol\n",
            "_rinterface_cffi_api et_xmlfile          numpy               sympy\n",
            "_scs_direct         etils               oauth2client        sympyprinting\n",
            "_scs_indirect       etuples             oauthlib            symtable\n",
            "_sha1               fa2                 ogr                 sys\n",
            "_sha256             fastai              okgrade             sysconfig\n",
            "_sha3               fastcore            opcode              syslog\n",
            "_sha512             fastdownload        openpyxl            tables\n",
            "_signal             fastdtw             operator            tabnanny\n",
            "_sitebuiltins       fastjsonschema      opt_einsum          tabulate\n",
            "_socket             fastprogress        optparse            tarfile\n",
            "_soundfile          fastrlock           os                  tblib\n",
            "_sqlite3            faulthandler        osgeo               telnetlib\n",
            "_sre                fcntl               osqp                tempfile\n",
            "_ssl                feather             osqppurepy          tenacity\n",
            "_stat               filecmp             osr                 tensorboard\n",
            "_statistics         fileinput           ossaudiodev         tensorboard_data_server\n",
            "_string             filelock            packaging           tensorboard_plugin_wit\n",
            "_strptime           firebase_admin      palettable          tensorflow\n",
            "_struct             fix_yahoo_finance   pandas              tensorflow_datasets\n",
            "_symtable           flask               pandas_datareader   tensorflow_estimator\n",
            "_sysconfigdata__linux_x86_64-linux-gnu flatbuffers         pandas_gbq          tensorflow_gcs_config\n",
            "_sysconfigdata__x86_64-linux-gnu fnmatch             pandas_profiling    tensorflow_hub\n",
            "_testbuffer         folium              pandocfilters       tensorflow_io_gcs_filesystem\n",
            "_testcapi           formatter           panel               tensorflow_metadata\n",
            "_testimportmultiple fractions           param               tensorflow_probability\n",
            "_testinternalcapi   frozenlist          parser              termcolor\n",
            "_testmultiphase     fsspec              parso               terminado\n",
            "_thread             ftplib              partd               termios\n",
            "_threading_local    functools           past                test\n",
            "_tkinter            functorch           pasta               testpath\n",
            "_tracemalloc        future              pastel              tests\n",
            "_warnings           gast                pathlib             text_unidecode\n",
            "_weakref            gc                  pathy               textblob\n",
            "_weakrefset         gdal                patsy               textwrap\n",
            "_xxsubinterpreters  gdalconst           pdb                 thinc\n",
            "_xxtestfuzz         gdalnumeric         pep517              this\n",
            "_yaml               gdown               pexpect             threading\n",
            "abc                 genericpath         pickle              threadpoolctl\n",
            "absl                gensim              pickleshare         tifffile\n",
            "aeppl               geographiclib       pickletools         time\n",
            "aesara              geopy               pip                 timeit\n",
            "aifc                getopt              pipes               tkinter\n",
            "aiohttp             getpass             piptools            tlz\n",
            "aiosignal           gettext             pkg_resources       token\n",
            "alabaster           gi                  pkgutil             tokenize\n",
            "albumentations      gin                 platform            toml\n",
            "altair              glob                platformdirs        tomli\n",
            "antigravity         glob2               plistlib            toolz\n",
            "apiclient           gnm                 plotly              torch\n",
            "appdirs             google_auth_httplib2 plotlywidget        torchaudio\n",
            "apt                 google_auth_oauthlib plotnine            torchgen\n",
            "apt_inst            google_crc32c       pluggy              torchsummary\n",
            "apt_pkg             google_drive_downloader pooch               torchtext\n",
            "aptsources          googleapiclient     poplib              torchvision\n",
            "argparse            googlesearch        portpicker          tornado\n",
            "array               graphviz            posix               tqdm\n",
            "arviz               greenlet            posixpath           trace\n",
            "ast                 gridfs              pprint              traceback\n",
            "astor               grp                 prefetch_generator  tracemalloc\n",
            "astropy             grpc                preshed             traitlets\n",
            "astunparse          grpc_status         prettytable         tree\n",
            "async_timeout       gspread             profile             tty\n",
            "asynchat            gspread_dataframe   progressbar         turtle\n",
            "asyncio             gym                 prometheus_client   tweepy\n",
            "asyncore            gym_notices         promise             typeguard\n",
            "atari_py            gzip                prompt_toolkit      typer\n",
            "atexit              h5py                prophet             types\n",
            "atomicwrites        hashlib             proto               typing\n",
            "attr                heapdict            pstats              typing_extensions\n",
            "attrs               heapq               psutil              tzlocal\n",
            "audioop             hijri_converter     psycopg2            unicodedata\n",
            "audioread           hmac                pty                 unification\n",
            "autograd            holidays            ptyprocess          unittest\n",
            "autoreload          holoviews           pwd                 uritemplate\n",
            "babel               html                py                  urllib\n",
            "backcall            html5lib            py_compile          urllib3\n",
            "base64              http                pyarrow             uu\n",
            "bdb                 httpimport          pyasn1              uuid\n",
            "bin                 httplib2            pyasn1_modules      vega_datasets\n",
            "binascii            httpstan            pyclbr              venv\n",
            "binhex              humanize            pycocotools         vis\n",
            "bisect              hyperopt            pycparser           warnings\n",
            "bleach              idna                pyct                wasabi\n",
            "blis                imageio             pydantic            wave\n",
            "bokeh               imagesize           pydata_google_auth  wcwidth\n",
            "boost               imaplib             pydoc               weakref\n",
            "branca              imblearn            pydoc_data          webargs\n",
            "bs4                 imgaug              pydot               webbrowser\n",
            "bson                imghdr              pydot_ng            webencodings\n",
            "builtins            imp                 pydotplus           werkzeug\n",
            "bz2                 importlib           pydrive             wheel\n",
            "cProfile            importlib_metadata  pyemd               widgetsnbextension\n",
            "cachecontrol        importlib_resources pyexpat             wordcloud\n",
            "cachetools          imutils             pygments            wrapt\n",
            "caffe2              inflect             pygtkcompat         wsgiref\n",
            "calendar            inspect             pylab               xarray\n",
            "catalogue           intervaltree        pylev               xarray_einstats\n",
            "certifi             io                  pymc                xdrlib\n",
            "cffi                ipaddress           pymeeus             xgboost\n",
            "cftime              ipykernel           pymongo             xkit\n",
            "cgi                 ipykernel_launcher  pymystem3           xlrd\n",
            "cgitb               ipython_genutils    pyparsing           xlwt\n",
            "chardet             ipywidgets          pyrsistent          xml\n",
            "charset_normalizer  isympy              pysndfile           xmlrpc\n",
            "chunk               itertools           pytest              xxlimited\n",
            "clang               itsdangerous        python_utils        xxsubtype\n",
            "click               jax                 pytz                yaml\n",
            "client              jaxlib              pyviz_comms         yarl\n",
            "clikit              jieba               pywt                yellowbrick\n",
            "cloudpickle         jinja2              pyximport           zict\n",
            "cmake               joblib              qdldl               zipapp\n",
            "cmath               jpeg4py             qudida              zipfile\n",
            "cmd                 json                queue               zipimport\n",
            "cmdstanpy           jsonschema          quopri              zipp\n",
            "code                jupyter             random              zlib\n",
            "codecs              jupyter_client      re                  zmq\n",
            "codeop              jupyter_console     readline            \n",
            "colab               jupyter_core        regex               \n",
            "\n",
            "Enter any module name to get more help.  Or, type \"modules spam\" to search\n",
            "for modules whose name or summary contain the string \"spam\".\n",
            "\n"
          ]
        }
      ]
    },
    {
      "cell_type": "markdown",
      "source": [
        "#Loops in Python\n",
        "\n",
        "\n",
        "1.   Need for loops\n",
        "2.   While Loop\n",
        "3.   do while loop \n",
        "4.  For Loop \n",
        "\n",
        "\n"
      ],
      "metadata": {
        "id": "tI9ONl518VDI"
      }
    },
    {
      "cell_type": "code",
      "source": [
        "# python tuitor.com for python working process visualizatiobn"
      ],
      "metadata": {
        "id": "NZn71Jzo5yD3"
      },
      "execution_count": 6,
      "outputs": []
    },
    {
      "cell_type": "code",
      "source": [
        "number = int(input('enter the number'))\n",
        "\n",
        "i = 1\n",
        "\n",
        "while i<11:\n",
        "  print(number,'*',i,'=',number * i)\n",
        "  i += 1"
      ],
      "metadata": {
        "colab": {
          "base_uri": "https://localhost:8080/"
        },
        "id": "ysGr-hvjAk2C",
        "outputId": "47405806-6c84-4fcc-bcd0-61737bfbe364"
      },
      "execution_count": 10,
      "outputs": [
        {
          "output_type": "stream",
          "name": "stdout",
          "text": [
            "enter the number12\n",
            "12 * 1 = 12\n",
            "12 * 2 = 24\n",
            "12 * 3 = 36\n",
            "12 * 4 = 48\n",
            "12 * 5 = 60\n",
            "12 * 6 = 72\n",
            "12 * 7 = 84\n",
            "12 * 8 = 96\n",
            "12 * 9 = 108\n",
            "12 * 10 = 120\n"
          ]
        }
      ]
    },
    {
      "cell_type": "code",
      "source": [
        "# while loop with else \n",
        "\n",
        "x = 1\n",
        "\n",
        "while x < 3:\n",
        "  print(x)\n",
        "  x += 1\n",
        "\n",
        "else:\n",
        "  print('limit crossed')"
      ],
      "metadata": {
        "colab": {
          "base_uri": "https://localhost:8080/"
        },
        "id": "c0fbaLcUA0s0",
        "outputId": "b0554d31-15cd-42c4-85e8-8e5d393f77f3"
      },
      "execution_count": 11,
      "outputs": [
        {
          "output_type": "stream",
          "name": "stdout",
          "text": [
            "1\n",
            "2\n",
            "limit crossed\n"
          ]
        }
      ]
    },
    {
      "cell_type": "code",
      "source": [
        " #Guessing game\n",
        "\n",
        "# generate a random integer between 1 and 100\n",
        "import random\n",
        "jackpot = random.randint(1,100)\n",
        "\n",
        "guess = int(input('guess karo'))\n",
        "counter = 1\n",
        "while guess != jackpot:\n",
        "  if guess < jackpot:\n",
        "    print('galat!guess higher')\n",
        "  else:\n",
        "    print('galat!guess lower')\n",
        "\n",
        "  guess = int(input('guess karo'))\n",
        "  counter += 1\n",
        "\n",
        "else:\n",
        "  print('correct guess')\n",
        "  print('attempts',counter)\n"
      ],
      "metadata": {
        "colab": {
          "base_uri": "https://localhost:8080/"
        },
        "id": "5fKDYudSBH5F",
        "outputId": "5450b0cb-2f2e-4543-bc8b-18279de6455e"
      },
      "execution_count": 13,
      "outputs": [
        {
          "output_type": "stream",
          "name": "stdout",
          "text": [
            "guess karo33\n",
            "galat!guess higher\n",
            "guess karo77\n",
            "galat!guess lower\n",
            "guess karo55\n",
            "galat!guess lower\n",
            "guess karo44\n",
            "galat!guess higher\n",
            "guess karo50\n",
            "galat!guess lower\n",
            "guess karo45\n",
            "galat!guess higher\n",
            "guess karo47\n",
            "galat!guess higher\n",
            "guess karo49\n",
            "correct guess\n",
            "attempts 8\n"
          ]
        }
      ]
    },
    {
      "cell_type": "code",
      "source": [
        "# For loop demo\n",
        "\n",
        "for i in {1,2,3,4,5}:\n",
        "  print(i)"
      ],
      "metadata": {
        "colab": {
          "base_uri": "https://localhost:8080/"
        },
        "id": "R-Wjg4iSBLSn",
        "outputId": "8316f92a-30c3-43e6-869f-bb8a5a2da742"
      },
      "execution_count": 14,
      "outputs": [
        {
          "output_type": "stream",
          "name": "stdout",
          "text": [
            "1\n",
            "2\n",
            "3\n",
            "4\n",
            "5\n"
          ]
        }
      ]
    },
    {
      "cell_type": "code",
      "source": [
        "#Program - The current population of a town is 10000. The population of the town is increasing at the rate of 10% per year. You have to write a program to find out the population at the end of each of the last 10 years."
      ],
      "metadata": {
        "id": "yUHRXyaqBo5m"
      },
      "execution_count": 15,
      "outputs": []
    },
    {
      "cell_type": "code",
      "source": [
        "curr_pop = 10000\n",
        "\n",
        "for i in range(10,0,-1):\n",
        "  print(i,curr_pop)\n",
        "  curr_pop = curr_pop - 0.1*curr_pop"
      ],
      "metadata": {
        "colab": {
          "base_uri": "https://localhost:8080/"
        },
        "id": "yb_-yaTeBv2q",
        "outputId": "e7444cee-fbf2-4181-ea97-73019be75a21"
      },
      "execution_count": 16,
      "outputs": [
        {
          "output_type": "stream",
          "name": "stdout",
          "text": [
            "10 10000\n",
            "9 9000.0\n",
            "8 8100.0\n",
            "7 7290.0\n",
            "6 6561.0\n",
            "5 5904.9\n",
            "4 5314.41\n",
            "3 4782.969\n",
            "2 4304.6721\n",
            "1 3874.20489\n"
          ]
        }
      ]
    },
    {
      "cell_type": "code",
      "source": [],
      "metadata": {
        "id": "xcwTQOtdByF2"
      },
      "execution_count": null,
      "outputs": []
    }
  ]
}