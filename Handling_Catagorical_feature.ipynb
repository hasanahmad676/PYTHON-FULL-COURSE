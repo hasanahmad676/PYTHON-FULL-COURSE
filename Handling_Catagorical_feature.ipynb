{
  "nbformat": 4,
  "nbformat_minor": 0,
  "metadata": {
    "colab": {
      "name": "Handling Catagorical feature.ipynb",
      "provenance": []
    },
    "kernelspec": {
      "name": "python3",
      "display_name": "Python 3"
    },
    "language_info": {
      "name": "python"
    }
  },
  "cells": [
    {
      "cell_type": "markdown",
      "metadata": {
        "id": "QbWhBmKJ4U5j"
      },
      "source": [
        "Ordinal numbering encoding or Label **Encoding¶**\n"
      ]
    },
    {
      "cell_type": "markdown",
      "metadata": {
        "id": "f7iL6xwq4im0"
      },
      "source": [
        "Ordinal data is a categorical, statistical data type where the variables have natural, ordered categories and the distances between the categories is not known.\n",
        "For example:\n",
        "\n",
        "Student's grade in an exam (A, B, C or Fail).\n",
        "Educational level, with the categories: Elementary school, High school, College graduate, PhD ranked from 1 to 4.\n",
        "When the categorical variables are ordinal, the most straightforward best approach is to replace the labels by some ordinal number based on the ranks"
      ]
    },
    {
      "cell_type": "code",
      "metadata": {
        "id": "pYoZ9N7x4a89"
      },
      "source": [
        "import pandas as pd\n",
        "import datetime"
      ],
      "execution_count": 1,
      "outputs": []
    },
    {
      "cell_type": "code",
      "metadata": {
        "colab": {
          "base_uri": "https://localhost:8080/",
          "height": 669
        },
        "id": "CjvGR9om4rjr",
        "outputId": "139d7ea6-299f-4a79-b05c-aa486c30c5a2"
      },
      "source": [
        "# create a variable with dates, and from that extract the weekday\n",
        "# I create a list of dates with 20 days difference from today\n",
        "# and then transform it into a datafame\n",
        "\n",
        "df_base = datetime.datetime.today()\n",
        "df_date_list = [df_base - datetime.timedelta(days=x) for x in range(0, 20)]\n",
        "df = pd.DataFrame(df_date_list)\n",
        "df.columns = ['day']\n",
        "df"
      ],
      "execution_count": 2,
      "outputs": [
        {
          "output_type": "execute_result",
          "data": {
            "text/html": [
              "<div>\n",
              "<style scoped>\n",
              "    .dataframe tbody tr th:only-of-type {\n",
              "        vertical-align: middle;\n",
              "    }\n",
              "\n",
              "    .dataframe tbody tr th {\n",
              "        vertical-align: top;\n",
              "    }\n",
              "\n",
              "    .dataframe thead th {\n",
              "        text-align: right;\n",
              "    }\n",
              "</style>\n",
              "<table border=\"1\" class=\"dataframe\">\n",
              "  <thead>\n",
              "    <tr style=\"text-align: right;\">\n",
              "      <th></th>\n",
              "      <th>day</th>\n",
              "    </tr>\n",
              "  </thead>\n",
              "  <tbody>\n",
              "    <tr>\n",
              "      <th>0</th>\n",
              "      <td>2021-10-27 13:14:11.110618</td>\n",
              "    </tr>\n",
              "    <tr>\n",
              "      <th>1</th>\n",
              "      <td>2021-10-26 13:14:11.110618</td>\n",
              "    </tr>\n",
              "    <tr>\n",
              "      <th>2</th>\n",
              "      <td>2021-10-25 13:14:11.110618</td>\n",
              "    </tr>\n",
              "    <tr>\n",
              "      <th>3</th>\n",
              "      <td>2021-10-24 13:14:11.110618</td>\n",
              "    </tr>\n",
              "    <tr>\n",
              "      <th>4</th>\n",
              "      <td>2021-10-23 13:14:11.110618</td>\n",
              "    </tr>\n",
              "    <tr>\n",
              "      <th>5</th>\n",
              "      <td>2021-10-22 13:14:11.110618</td>\n",
              "    </tr>\n",
              "    <tr>\n",
              "      <th>6</th>\n",
              "      <td>2021-10-21 13:14:11.110618</td>\n",
              "    </tr>\n",
              "    <tr>\n",
              "      <th>7</th>\n",
              "      <td>2021-10-20 13:14:11.110618</td>\n",
              "    </tr>\n",
              "    <tr>\n",
              "      <th>8</th>\n",
              "      <td>2021-10-19 13:14:11.110618</td>\n",
              "    </tr>\n",
              "    <tr>\n",
              "      <th>9</th>\n",
              "      <td>2021-10-18 13:14:11.110618</td>\n",
              "    </tr>\n",
              "    <tr>\n",
              "      <th>10</th>\n",
              "      <td>2021-10-17 13:14:11.110618</td>\n",
              "    </tr>\n",
              "    <tr>\n",
              "      <th>11</th>\n",
              "      <td>2021-10-16 13:14:11.110618</td>\n",
              "    </tr>\n",
              "    <tr>\n",
              "      <th>12</th>\n",
              "      <td>2021-10-15 13:14:11.110618</td>\n",
              "    </tr>\n",
              "    <tr>\n",
              "      <th>13</th>\n",
              "      <td>2021-10-14 13:14:11.110618</td>\n",
              "    </tr>\n",
              "    <tr>\n",
              "      <th>14</th>\n",
              "      <td>2021-10-13 13:14:11.110618</td>\n",
              "    </tr>\n",
              "    <tr>\n",
              "      <th>15</th>\n",
              "      <td>2021-10-12 13:14:11.110618</td>\n",
              "    </tr>\n",
              "    <tr>\n",
              "      <th>16</th>\n",
              "      <td>2021-10-11 13:14:11.110618</td>\n",
              "    </tr>\n",
              "    <tr>\n",
              "      <th>17</th>\n",
              "      <td>2021-10-10 13:14:11.110618</td>\n",
              "    </tr>\n",
              "    <tr>\n",
              "      <th>18</th>\n",
              "      <td>2021-10-09 13:14:11.110618</td>\n",
              "    </tr>\n",
              "    <tr>\n",
              "      <th>19</th>\n",
              "      <td>2021-10-08 13:14:11.110618</td>\n",
              "    </tr>\n",
              "  </tbody>\n",
              "</table>\n",
              "</div>"
            ],
            "text/plain": [
              "                          day\n",
              "0  2021-10-27 13:14:11.110618\n",
              "1  2021-10-26 13:14:11.110618\n",
              "2  2021-10-25 13:14:11.110618\n",
              "3  2021-10-24 13:14:11.110618\n",
              "4  2021-10-23 13:14:11.110618\n",
              "5  2021-10-22 13:14:11.110618\n",
              "6  2021-10-21 13:14:11.110618\n",
              "7  2021-10-20 13:14:11.110618\n",
              "8  2021-10-19 13:14:11.110618\n",
              "9  2021-10-18 13:14:11.110618\n",
              "10 2021-10-17 13:14:11.110618\n",
              "11 2021-10-16 13:14:11.110618\n",
              "12 2021-10-15 13:14:11.110618\n",
              "13 2021-10-14 13:14:11.110618\n",
              "14 2021-10-13 13:14:11.110618\n",
              "15 2021-10-12 13:14:11.110618\n",
              "16 2021-10-11 13:14:11.110618\n",
              "17 2021-10-10 13:14:11.110618\n",
              "18 2021-10-09 13:14:11.110618\n",
              "19 2021-10-08 13:14:11.110618"
            ]
          },
          "metadata": {},
          "execution_count": 2
        }
      ]
    },
    {
      "cell_type": "code",
      "metadata": {
        "colab": {
          "base_uri": "https://localhost:8080/",
          "height": 204
        },
        "id": "yMlftbVa41Wd",
        "outputId": "0c1e58d2-d798-49bf-f1db-27f2b8168de1"
      },
      "source": [
        "# extract the week day name\n",
        "\n",
        "df['day_of_week'] = df['day'].dt.day_name()\n",
        "df.head()"
      ],
      "execution_count": 17,
      "outputs": [
        {
          "output_type": "execute_result",
          "data": {
            "text/html": [
              "<div>\n",
              "<style scoped>\n",
              "    .dataframe tbody tr th:only-of-type {\n",
              "        vertical-align: middle;\n",
              "    }\n",
              "\n",
              "    .dataframe tbody tr th {\n",
              "        vertical-align: top;\n",
              "    }\n",
              "\n",
              "    .dataframe thead th {\n",
              "        text-align: right;\n",
              "    }\n",
              "</style>\n",
              "<table border=\"1\" class=\"dataframe\">\n",
              "  <thead>\n",
              "    <tr style=\"text-align: right;\">\n",
              "      <th></th>\n",
              "      <th>day</th>\n",
              "      <th>day_of_week</th>\n",
              "    </tr>\n",
              "  </thead>\n",
              "  <tbody>\n",
              "    <tr>\n",
              "      <th>0</th>\n",
              "      <td>2021-10-27 13:14:11.110618</td>\n",
              "      <td>Wednesday</td>\n",
              "    </tr>\n",
              "    <tr>\n",
              "      <th>1</th>\n",
              "      <td>2021-10-26 13:14:11.110618</td>\n",
              "      <td>Tuesday</td>\n",
              "    </tr>\n",
              "    <tr>\n",
              "      <th>2</th>\n",
              "      <td>2021-10-25 13:14:11.110618</td>\n",
              "      <td>Monday</td>\n",
              "    </tr>\n",
              "    <tr>\n",
              "      <th>3</th>\n",
              "      <td>2021-10-24 13:14:11.110618</td>\n",
              "      <td>Sunday</td>\n",
              "    </tr>\n",
              "    <tr>\n",
              "      <th>4</th>\n",
              "      <td>2021-10-23 13:14:11.110618</td>\n",
              "      <td>Saturday</td>\n",
              "    </tr>\n",
              "  </tbody>\n",
              "</table>\n",
              "</div>"
            ],
            "text/plain": [
              "                         day day_of_week\n",
              "0 2021-10-27 13:14:11.110618   Wednesday\n",
              "1 2021-10-26 13:14:11.110618     Tuesday\n",
              "2 2021-10-25 13:14:11.110618      Monday\n",
              "3 2021-10-24 13:14:11.110618      Sunday\n",
              "4 2021-10-23 13:14:11.110618    Saturday"
            ]
          },
          "metadata": {},
          "execution_count": 17
        }
      ]
    },
    {
      "cell_type": "code",
      "metadata": {
        "colab": {
          "base_uri": "https://localhost:8080/",
          "height": 669
        },
        "id": "bAe7IoPF74Zj",
        "outputId": "dd12fb7f-838c-4f84-adb1-f906ce81042e"
      },
      "source": [
        "# Engineer categorical variable by ordinal number replacement\n",
        "\n",
        "weekday_map = {'Monday':1,\n",
        "               'Tuesday':2,\n",
        "               'Wednesday':3,\n",
        "               'Thursday':4,\n",
        "               'Friday':5,\n",
        "               'Saturday':6,\n",
        "               'Sunday':7\n",
        "}\n",
        "\n",
        "df['day_ordinal'] = df.day_of_week.map(weekday_map)\n",
        "df.head(20)"
      ],
      "execution_count": 18,
      "outputs": [
        {
          "output_type": "execute_result",
          "data": {
            "text/html": [
              "<div>\n",
              "<style scoped>\n",
              "    .dataframe tbody tr th:only-of-type {\n",
              "        vertical-align: middle;\n",
              "    }\n",
              "\n",
              "    .dataframe tbody tr th {\n",
              "        vertical-align: top;\n",
              "    }\n",
              "\n",
              "    .dataframe thead th {\n",
              "        text-align: right;\n",
              "    }\n",
              "</style>\n",
              "<table border=\"1\" class=\"dataframe\">\n",
              "  <thead>\n",
              "    <tr style=\"text-align: right;\">\n",
              "      <th></th>\n",
              "      <th>day</th>\n",
              "      <th>day_of_week</th>\n",
              "      <th>day_ordinal</th>\n",
              "    </tr>\n",
              "  </thead>\n",
              "  <tbody>\n",
              "    <tr>\n",
              "      <th>0</th>\n",
              "      <td>2021-10-27 13:14:11.110618</td>\n",
              "      <td>Wednesday</td>\n",
              "      <td>3</td>\n",
              "    </tr>\n",
              "    <tr>\n",
              "      <th>1</th>\n",
              "      <td>2021-10-26 13:14:11.110618</td>\n",
              "      <td>Tuesday</td>\n",
              "      <td>2</td>\n",
              "    </tr>\n",
              "    <tr>\n",
              "      <th>2</th>\n",
              "      <td>2021-10-25 13:14:11.110618</td>\n",
              "      <td>Monday</td>\n",
              "      <td>1</td>\n",
              "    </tr>\n",
              "    <tr>\n",
              "      <th>3</th>\n",
              "      <td>2021-10-24 13:14:11.110618</td>\n",
              "      <td>Sunday</td>\n",
              "      <td>7</td>\n",
              "    </tr>\n",
              "    <tr>\n",
              "      <th>4</th>\n",
              "      <td>2021-10-23 13:14:11.110618</td>\n",
              "      <td>Saturday</td>\n",
              "      <td>6</td>\n",
              "    </tr>\n",
              "    <tr>\n",
              "      <th>5</th>\n",
              "      <td>2021-10-22 13:14:11.110618</td>\n",
              "      <td>Friday</td>\n",
              "      <td>5</td>\n",
              "    </tr>\n",
              "    <tr>\n",
              "      <th>6</th>\n",
              "      <td>2021-10-21 13:14:11.110618</td>\n",
              "      <td>Thursday</td>\n",
              "      <td>4</td>\n",
              "    </tr>\n",
              "    <tr>\n",
              "      <th>7</th>\n",
              "      <td>2021-10-20 13:14:11.110618</td>\n",
              "      <td>Wednesday</td>\n",
              "      <td>3</td>\n",
              "    </tr>\n",
              "    <tr>\n",
              "      <th>8</th>\n",
              "      <td>2021-10-19 13:14:11.110618</td>\n",
              "      <td>Tuesday</td>\n",
              "      <td>2</td>\n",
              "    </tr>\n",
              "    <tr>\n",
              "      <th>9</th>\n",
              "      <td>2021-10-18 13:14:11.110618</td>\n",
              "      <td>Monday</td>\n",
              "      <td>1</td>\n",
              "    </tr>\n",
              "    <tr>\n",
              "      <th>10</th>\n",
              "      <td>2021-10-17 13:14:11.110618</td>\n",
              "      <td>Sunday</td>\n",
              "      <td>7</td>\n",
              "    </tr>\n",
              "    <tr>\n",
              "      <th>11</th>\n",
              "      <td>2021-10-16 13:14:11.110618</td>\n",
              "      <td>Saturday</td>\n",
              "      <td>6</td>\n",
              "    </tr>\n",
              "    <tr>\n",
              "      <th>12</th>\n",
              "      <td>2021-10-15 13:14:11.110618</td>\n",
              "      <td>Friday</td>\n",
              "      <td>5</td>\n",
              "    </tr>\n",
              "    <tr>\n",
              "      <th>13</th>\n",
              "      <td>2021-10-14 13:14:11.110618</td>\n",
              "      <td>Thursday</td>\n",
              "      <td>4</td>\n",
              "    </tr>\n",
              "    <tr>\n",
              "      <th>14</th>\n",
              "      <td>2021-10-13 13:14:11.110618</td>\n",
              "      <td>Wednesday</td>\n",
              "      <td>3</td>\n",
              "    </tr>\n",
              "    <tr>\n",
              "      <th>15</th>\n",
              "      <td>2021-10-12 13:14:11.110618</td>\n",
              "      <td>Tuesday</td>\n",
              "      <td>2</td>\n",
              "    </tr>\n",
              "    <tr>\n",
              "      <th>16</th>\n",
              "      <td>2021-10-11 13:14:11.110618</td>\n",
              "      <td>Monday</td>\n",
              "      <td>1</td>\n",
              "    </tr>\n",
              "    <tr>\n",
              "      <th>17</th>\n",
              "      <td>2021-10-10 13:14:11.110618</td>\n",
              "      <td>Sunday</td>\n",
              "      <td>7</td>\n",
              "    </tr>\n",
              "    <tr>\n",
              "      <th>18</th>\n",
              "      <td>2021-10-09 13:14:11.110618</td>\n",
              "      <td>Saturday</td>\n",
              "      <td>6</td>\n",
              "    </tr>\n",
              "    <tr>\n",
              "      <th>19</th>\n",
              "      <td>2021-10-08 13:14:11.110618</td>\n",
              "      <td>Friday</td>\n",
              "      <td>5</td>\n",
              "    </tr>\n",
              "  </tbody>\n",
              "</table>\n",
              "</div>"
            ],
            "text/plain": [
              "                          day day_of_week  day_ordinal\n",
              "0  2021-10-27 13:14:11.110618   Wednesday            3\n",
              "1  2021-10-26 13:14:11.110618     Tuesday            2\n",
              "2  2021-10-25 13:14:11.110618      Monday            1\n",
              "3  2021-10-24 13:14:11.110618      Sunday            7\n",
              "4  2021-10-23 13:14:11.110618    Saturday            6\n",
              "5  2021-10-22 13:14:11.110618      Friday            5\n",
              "6  2021-10-21 13:14:11.110618    Thursday            4\n",
              "7  2021-10-20 13:14:11.110618   Wednesday            3\n",
              "8  2021-10-19 13:14:11.110618     Tuesday            2\n",
              "9  2021-10-18 13:14:11.110618      Monday            1\n",
              "10 2021-10-17 13:14:11.110618      Sunday            7\n",
              "11 2021-10-16 13:14:11.110618    Saturday            6\n",
              "12 2021-10-15 13:14:11.110618      Friday            5\n",
              "13 2021-10-14 13:14:11.110618    Thursday            4\n",
              "14 2021-10-13 13:14:11.110618   Wednesday            3\n",
              "15 2021-10-12 13:14:11.110618     Tuesday            2\n",
              "16 2021-10-11 13:14:11.110618      Monday            1\n",
              "17 2021-10-10 13:14:11.110618      Sunday            7\n",
              "18 2021-10-09 13:14:11.110618    Saturday            6\n",
              "19 2021-10-08 13:14:11.110618      Friday            5"
            ]
          },
          "metadata": {},
          "execution_count": 18
        }
      ]
    },
    {
      "cell_type": "code",
      "metadata": {
        "id": "YkAluaIn8dfH"
      },
      "source": [
        ""
      ],
      "execution_count": null,
      "outputs": []
    },
    {
      "cell_type": "markdown",
      "metadata": {
        "id": "Yw4rr9lL8s9i"
      },
      "source": [
        "Ordinal Measurement Advantages\n",
        "Ordinal measurement is normally used for surveys and questionnaires. Statistical analysis is applied to the responses once they are collected to place the people who took the survey into the various categories. The data is then compared to draw inferences and conclusions about the whole surveyed population with regard to the specific variables. The advantage of using ordinal measurement is ease of collation and categorization. If you ask a survey question without providing the variables, the answers are likely to be so diverse they cannot be converted to statistics.\n",
        "\n",
        "With Respect to Machine Learning\n",
        "\n",
        "Keeps the semantical information of the variable (human readable content)\n",
        "Straightforward\n",
        "Ordinal Measurement Disadvantages\n",
        "The same characteristics of ordinal measurement that create its advantages also create certain disadvantages. The responses are often so narrow in relation to the question that they create or magnify bias that is not factored into the survey. For example, on the question about satisfaction with the governor, people might be satisfied with his job performance but upset about a recent sex scandal. The survey question might lead respondents to state their dissatisfaction about the scandal, in spite of satisfaction with his job performance -- but the statistical conclusion will not differentiate.\n",
        "\n",
        "With Respect to Machine Learning\n",
        "\n",
        "Does not add machine learning valuable information"
      ]
    },
    {
      "cell_type": "code",
      "metadata": {
        "id": "iMUcAeGX8t-m"
      },
      "source": [
        ""
      ],
      "execution_count": null,
      "outputs": []
    },
    {
      "cell_type": "markdown",
      "metadata": {
        "id": "rdMvy16U9B0v"
      },
      "source": [
        "**Count or frequency encoding High Cardinality**"
      ]
    },
    {
      "cell_type": "markdown",
      "metadata": {
        "id": "1HdpvNnO89bY"
      },
      "source": [
        "****"
      ]
    },
    {
      "cell_type": "markdown",
      "metadata": {
        "id": "xiMo2f4n80-a"
      },
      "source": [
        "Count or frequency encoding\n",
        "High Cardinality\n",
        "\n",
        "\n",
        "Another way to refer to variables that have a multitude of categories, is to call them variables with high cardinality.\n",
        "\n",
        "If we have categorical variables containing many multiple labels or high cardinality,then by using one hot encoding, we will expand the feature space dramatically.\n",
        "\n",
        "One approach that is heavily used in Kaggle competitions, is to replace each label of the categorical variable by the count, this is the amount of times each label appears in the dataset. Or the frequency, this is the percentage of observations within that category. The 2 are equivalent."
      ]
    },
    {
      "cell_type": "code",
      "metadata": {
        "id": "zBc4GfuE84Mv"
      },
      "source": [
        "import pandas as pd\n",
        "import numpy as np\n",
        "\n",
        "# let's open the mercedes benz dataset for demonstration\n",
        "# Download the dataset from the below link\n",
        "#https://www.kaggle.com/aditya1702/mercedes-benz-data-exploration/data\n",
        "\n",
        "df = pd.read_csv('mercedesbenz.csv', usecols=['X1', 'X2'])"
      ],
      "execution_count": 19,
      "outputs": []
    },
    {
      "cell_type": "code",
      "metadata": {
        "colab": {
          "base_uri": "https://localhost:8080/",
          "height": 204
        },
        "id": "apP9JILL9ZVA",
        "outputId": "fb124554-65de-4293-c9a2-cf0abe703f79"
      },
      "source": [
        "df.head()"
      ],
      "execution_count": 20,
      "outputs": [
        {
          "output_type": "execute_result",
          "data": {
            "text/html": [
              "<div>\n",
              "<style scoped>\n",
              "    .dataframe tbody tr th:only-of-type {\n",
              "        vertical-align: middle;\n",
              "    }\n",
              "\n",
              "    .dataframe tbody tr th {\n",
              "        vertical-align: top;\n",
              "    }\n",
              "\n",
              "    .dataframe thead th {\n",
              "        text-align: right;\n",
              "    }\n",
              "</style>\n",
              "<table border=\"1\" class=\"dataframe\">\n",
              "  <thead>\n",
              "    <tr style=\"text-align: right;\">\n",
              "      <th></th>\n",
              "      <th>X1</th>\n",
              "      <th>X2</th>\n",
              "    </tr>\n",
              "  </thead>\n",
              "  <tbody>\n",
              "    <tr>\n",
              "      <th>0</th>\n",
              "      <td>v</td>\n",
              "      <td>at</td>\n",
              "    </tr>\n",
              "    <tr>\n",
              "      <th>1</th>\n",
              "      <td>t</td>\n",
              "      <td>av</td>\n",
              "    </tr>\n",
              "    <tr>\n",
              "      <th>2</th>\n",
              "      <td>w</td>\n",
              "      <td>n</td>\n",
              "    </tr>\n",
              "    <tr>\n",
              "      <th>3</th>\n",
              "      <td>t</td>\n",
              "      <td>n</td>\n",
              "    </tr>\n",
              "    <tr>\n",
              "      <th>4</th>\n",
              "      <td>v</td>\n",
              "      <td>n</td>\n",
              "    </tr>\n",
              "  </tbody>\n",
              "</table>\n",
              "</div>"
            ],
            "text/plain": [
              "  X1  X2\n",
              "0  v  at\n",
              "1  t  av\n",
              "2  w   n\n",
              "3  t   n\n",
              "4  v   n"
            ]
          },
          "metadata": {},
          "execution_count": 20
        }
      ]
    },
    {
      "cell_type": "code",
      "metadata": {
        "colab": {
          "base_uri": "https://localhost:8080/"
        },
        "id": "lnq98AJS9eRz",
        "outputId": "049f6a0d-b5e4-4e68-af7d-81af915a3e46"
      },
      "source": [
        "df.shape"
      ],
      "execution_count": 22,
      "outputs": [
        {
          "output_type": "execute_result",
          "data": {
            "text/plain": [
              "(1368, 2)"
            ]
          },
          "metadata": {},
          "execution_count": 22
        }
      ]
    },
    {
      "cell_type": "code",
      "metadata": {
        "id": "HNapHmrJ9iLb"
      },
      "source": [
        ""
      ],
      "execution_count": null,
      "outputs": []
    },
    {
      "cell_type": "markdown",
      "metadata": {
        "id": "0A2n-Z_y9l7k"
      },
      "source": [
        "**ONE HOT INCODING**"
      ]
    },
    {
      "cell_type": "code",
      "metadata": {
        "colab": {
          "base_uri": "https://localhost:8080/"
        },
        "id": "qnW7s9s09qlD",
        "outputId": "28b15dfe-e877-41bc-ed9d-4c0109d7d0d7"
      },
      "source": [
        "pd.get_dummies(df).shape"
      ],
      "execution_count": 23,
      "outputs": [
        {
          "output_type": "execute_result",
          "data": {
            "text/plain": [
              "(1368, 62)"
            ]
          },
          "metadata": {},
          "execution_count": 23
        }
      ]
    },
    {
      "cell_type": "code",
      "metadata": {
        "colab": {
          "base_uri": "https://localhost:8080/"
        },
        "id": "2sxDK6Np9uTv",
        "outputId": "ae3aa4d1-e4ff-4073-c3cf-4e99dfb9c335"
      },
      "source": [
        "len(df['X1'].unique())"
      ],
      "execution_count": 24,
      "outputs": [
        {
          "output_type": "execute_result",
          "data": {
            "text/plain": [
              "27"
            ]
          },
          "metadata": {},
          "execution_count": 24
        }
      ]
    },
    {
      "cell_type": "code",
      "metadata": {
        "colab": {
          "base_uri": "https://localhost:8080/"
        },
        "id": "AtYYFk7B9ysX",
        "outputId": "0181513d-e6fc-410a-9607-a18adb921532"
      },
      "source": [
        "len(df['X2'].unique())"
      ],
      "execution_count": 25,
      "outputs": [
        {
          "output_type": "execute_result",
          "data": {
            "text/plain": [
              "37"
            ]
          },
          "metadata": {},
          "execution_count": 25
        }
      ]
    },
    {
      "cell_type": "code",
      "metadata": {
        "colab": {
          "base_uri": "https://localhost:8080/"
        },
        "id": "LmRJhLLD91Xn",
        "outputId": "bdb2ae8e-bab3-472e-bdd5-8a5690f77057"
      },
      "source": [
        "# let's have a look at how many labels\n",
        "\n",
        "for col in df.columns[0:]:\n",
        "    print(col, ': ', len(df[col].unique()), ' labels')"
      ],
      "execution_count": 26,
      "outputs": [
        {
          "output_type": "stream",
          "name": "stdout",
          "text": [
            "X1 :  27  labels\n",
            "X2 :  37  labels\n"
          ]
        }
      ]
    },
    {
      "cell_type": "code",
      "metadata": {
        "colab": {
          "base_uri": "https://localhost:8080/"
        },
        "id": "GW9VGdE2942H",
        "outputId": "106db133-4d94-4f41-922b-1f7662d391db"
      },
      "source": [
        "# let's obtain the counts for each one of the labels in variable X2\n",
        "# let's capture this in a dictionary that we can use to re-map the labels\n",
        "\n",
        "df.X2.value_counts().to_dict()"
      ],
      "execution_count": 27,
      "outputs": [
        {
          "output_type": "execute_result",
          "data": {
            "text/plain": [
              "{'a': 14,\n",
              " 'ac': 6,\n",
              " 'ae': 108,\n",
              " 'ag': 6,\n",
              " 'ah': 3,\n",
              " 'ai': 144,\n",
              " 'ak': 76,\n",
              " 'al': 2,\n",
              " 'am': 1,\n",
              " 'an': 1,\n",
              " 'ao': 18,\n",
              " 'ap': 9,\n",
              " 'aq': 21,\n",
              " 'as': 574,\n",
              " 'at': 2,\n",
              " 'au': 2,\n",
              " 'av': 2,\n",
              " 'aw': 1,\n",
              " 'ay': 18,\n",
              " 'b': 14,\n",
              " 'd': 6,\n",
              " 'e': 21,\n",
              " 'f': 25,\n",
              " 'g': 3,\n",
              " 'h': 2,\n",
              " 'i': 7,\n",
              " 'k': 7,\n",
              " 'm': 165,\n",
              " 'n': 31,\n",
              " 'p': 1,\n",
              " 'r': 31,\n",
              " 's': 25,\n",
              " 't': 4,\n",
              " 'x': 2,\n",
              " 'y': 10,\n",
              " 'z': 5}"
            ]
          },
          "metadata": {},
          "execution_count": 27
        }
      ]
    },
    {
      "cell_type": "code",
      "metadata": {
        "id": "YWjCj5RR99kn"
      },
      "source": [
        "# And now let's replace each label in X2 by its count\n",
        "\n",
        "# first we make a dictionary that maps each label to the counts\n",
        "df_frequency_map = df.X2.value_counts().to_dict()"
      ],
      "execution_count": 28,
      "outputs": []
    },
    {
      "cell_type": "code",
      "metadata": {
        "colab": {
          "base_uri": "https://localhost:8080/",
          "height": 419
        },
        "id": "QZDiJAyx-Arx",
        "outputId": "16f3f1fe-5a0f-4f6d-c0a3-609b36b377d7"
      },
      "source": [
        "df.head(100)"
      ],
      "execution_count": 29,
      "outputs": [
        {
          "output_type": "execute_result",
          "data": {
            "text/html": [
              "<div>\n",
              "<style scoped>\n",
              "    .dataframe tbody tr th:only-of-type {\n",
              "        vertical-align: middle;\n",
              "    }\n",
              "\n",
              "    .dataframe tbody tr th {\n",
              "        vertical-align: top;\n",
              "    }\n",
              "\n",
              "    .dataframe thead th {\n",
              "        text-align: right;\n",
              "    }\n",
              "</style>\n",
              "<table border=\"1\" class=\"dataframe\">\n",
              "  <thead>\n",
              "    <tr style=\"text-align: right;\">\n",
              "      <th></th>\n",
              "      <th>X1</th>\n",
              "      <th>X2</th>\n",
              "    </tr>\n",
              "  </thead>\n",
              "  <tbody>\n",
              "    <tr>\n",
              "      <th>0</th>\n",
              "      <td>v</td>\n",
              "      <td>at</td>\n",
              "    </tr>\n",
              "    <tr>\n",
              "      <th>1</th>\n",
              "      <td>t</td>\n",
              "      <td>av</td>\n",
              "    </tr>\n",
              "    <tr>\n",
              "      <th>2</th>\n",
              "      <td>w</td>\n",
              "      <td>n</td>\n",
              "    </tr>\n",
              "    <tr>\n",
              "      <th>3</th>\n",
              "      <td>t</td>\n",
              "      <td>n</td>\n",
              "    </tr>\n",
              "    <tr>\n",
              "      <th>4</th>\n",
              "      <td>v</td>\n",
              "      <td>n</td>\n",
              "    </tr>\n",
              "    <tr>\n",
              "      <th>...</th>\n",
              "      <td>...</td>\n",
              "      <td>...</td>\n",
              "    </tr>\n",
              "    <tr>\n",
              "      <th>95</th>\n",
              "      <td>b</td>\n",
              "      <td>m</td>\n",
              "    </tr>\n",
              "    <tr>\n",
              "      <th>96</th>\n",
              "      <td>l</td>\n",
              "      <td>as</td>\n",
              "    </tr>\n",
              "    <tr>\n",
              "      <th>97</th>\n",
              "      <td>aa</td>\n",
              "      <td>as</td>\n",
              "    </tr>\n",
              "    <tr>\n",
              "      <th>98</th>\n",
              "      <td>b</td>\n",
              "      <td>m</td>\n",
              "    </tr>\n",
              "    <tr>\n",
              "      <th>99</th>\n",
              "      <td>s</td>\n",
              "      <td>m</td>\n",
              "    </tr>\n",
              "  </tbody>\n",
              "</table>\n",
              "<p>100 rows × 2 columns</p>\n",
              "</div>"
            ],
            "text/plain": [
              "    X1  X2\n",
              "0    v  at\n",
              "1    t  av\n",
              "2    w   n\n",
              "3    t   n\n",
              "4    v   n\n",
              "..  ..  ..\n",
              "95   b   m\n",
              "96   l  as\n",
              "97  aa  as\n",
              "98   b   m\n",
              "99   s   m\n",
              "\n",
              "[100 rows x 2 columns]"
            ]
          },
          "metadata": {},
          "execution_count": 29
        }
      ]
    },
    {
      "cell_type": "code",
      "metadata": {
        "colab": {
          "base_uri": "https://localhost:8080/",
          "height": 204
        },
        "id": "CCe5xV8Y-DOn",
        "outputId": "35eb1f06-69f6-47b7-dd51-34343e6339a5"
      },
      "source": [
        "# and now we replace X2 labels in the dataset df\n",
        "df.X2 = df.X2.map(df_frequency_map)\n",
        "\n",
        "df.head()"
      ],
      "execution_count": 30,
      "outputs": [
        {
          "output_type": "execute_result",
          "data": {
            "text/html": [
              "<div>\n",
              "<style scoped>\n",
              "    .dataframe tbody tr th:only-of-type {\n",
              "        vertical-align: middle;\n",
              "    }\n",
              "\n",
              "    .dataframe tbody tr th {\n",
              "        vertical-align: top;\n",
              "    }\n",
              "\n",
              "    .dataframe thead th {\n",
              "        text-align: right;\n",
              "    }\n",
              "</style>\n",
              "<table border=\"1\" class=\"dataframe\">\n",
              "  <thead>\n",
              "    <tr style=\"text-align: right;\">\n",
              "      <th></th>\n",
              "      <th>X1</th>\n",
              "      <th>X2</th>\n",
              "    </tr>\n",
              "  </thead>\n",
              "  <tbody>\n",
              "    <tr>\n",
              "      <th>0</th>\n",
              "      <td>v</td>\n",
              "      <td>2.0</td>\n",
              "    </tr>\n",
              "    <tr>\n",
              "      <th>1</th>\n",
              "      <td>t</td>\n",
              "      <td>2.0</td>\n",
              "    </tr>\n",
              "    <tr>\n",
              "      <th>2</th>\n",
              "      <td>w</td>\n",
              "      <td>31.0</td>\n",
              "    </tr>\n",
              "    <tr>\n",
              "      <th>3</th>\n",
              "      <td>t</td>\n",
              "      <td>31.0</td>\n",
              "    </tr>\n",
              "    <tr>\n",
              "      <th>4</th>\n",
              "      <td>v</td>\n",
              "      <td>31.0</td>\n",
              "    </tr>\n",
              "  </tbody>\n",
              "</table>\n",
              "</div>"
            ],
            "text/plain": [
              "  X1    X2\n",
              "0  v   2.0\n",
              "1  t   2.0\n",
              "2  w  31.0\n",
              "3  t  31.0\n",
              "4  v  31.0"
            ]
          },
          "metadata": {},
          "execution_count": 30
        }
      ]
    },
    {
      "cell_type": "code",
      "metadata": {
        "id": "xrXi9S__-GOP"
      },
      "source": [
        ""
      ],
      "execution_count": null,
      "outputs": []
    },
    {
      "cell_type": "markdown",
      "metadata": {
        "id": "BnD0_6vu-LwH"
      },
      "source": [
        "There are some advantages and disadvantages that we will discuss now\n",
        "\n",
        "Advantages\n",
        "It is very simple to implement\n",
        "Does not increase the feature dimensional space\n",
        "Disadvantages\n",
        "If some of the labels have the same count, then they will be replaced with the same count and they will loose some valuable information.\n",
        "2 Adds somewhat arbitrary numbers, and therefore weights to the different labels, that may not be related to their predictive power\n",
        "\n",
        "Follow this thread in Kaggle for more information: https://www.kaggle.com/general/16927"
      ]
    },
    {
      "cell_type": "code",
      "metadata": {
        "id": "nnYxd5wT-Mbe"
      },
      "source": [
        ""
      ],
      "execution_count": null,
      "outputs": []
    },
    {
      "cell_type": "code",
      "metadata": {
        "id": "HF_M6LAfBuWY"
      },
      "source": [
        ""
      ],
      "execution_count": null,
      "outputs": []
    },
    {
      "cell_type": "markdown",
      "metadata": {
        "id": "7DRIxIG1BvgK"
      },
      "source": [
        "USING LABEL ENCODE FROM SKLEARN"
      ]
    },
    {
      "cell_type": "code",
      "metadata": {
        "id": "iMuFHPrmB0UV"
      },
      "source": [
        "from sklearn.preprocessing import LabelEncoder\n",
        "import pandas as pd\n",
        "import numpy as np"
      ],
      "execution_count": 49,
      "outputs": []
    },
    {
      "cell_type": "code",
      "metadata": {
        "id": "1ZKk2FJvCCoR"
      },
      "source": [
        "df=pd.read_csv(\"/content/Iris.csv\")"
      ],
      "execution_count": 50,
      "outputs": []
    },
    {
      "cell_type": "code",
      "metadata": {
        "colab": {
          "base_uri": "https://localhost:8080/",
          "height": 204
        },
        "id": "kinhFWnKCJbR",
        "outputId": "ecab354b-d5ef-4ffe-e2e2-48fa9ff20814"
      },
      "source": [
        "df.head()"
      ],
      "execution_count": 51,
      "outputs": [
        {
          "output_type": "execute_result",
          "data": {
            "text/html": [
              "<div>\n",
              "<style scoped>\n",
              "    .dataframe tbody tr th:only-of-type {\n",
              "        vertical-align: middle;\n",
              "    }\n",
              "\n",
              "    .dataframe tbody tr th {\n",
              "        vertical-align: top;\n",
              "    }\n",
              "\n",
              "    .dataframe thead th {\n",
              "        text-align: right;\n",
              "    }\n",
              "</style>\n",
              "<table border=\"1\" class=\"dataframe\">\n",
              "  <thead>\n",
              "    <tr style=\"text-align: right;\">\n",
              "      <th></th>\n",
              "      <th>Id</th>\n",
              "      <th>SepalLengthCm</th>\n",
              "      <th>SepalWidthCm</th>\n",
              "      <th>PetalLengthCm</th>\n",
              "      <th>PetalWidthCm</th>\n",
              "      <th>Species</th>\n",
              "    </tr>\n",
              "  </thead>\n",
              "  <tbody>\n",
              "    <tr>\n",
              "      <th>0</th>\n",
              "      <td>1</td>\n",
              "      <td>5.1</td>\n",
              "      <td>3.5</td>\n",
              "      <td>1.4</td>\n",
              "      <td>0.2</td>\n",
              "      <td>Iris-setosa</td>\n",
              "    </tr>\n",
              "    <tr>\n",
              "      <th>1</th>\n",
              "      <td>2</td>\n",
              "      <td>4.9</td>\n",
              "      <td>3.0</td>\n",
              "      <td>1.4</td>\n",
              "      <td>0.2</td>\n",
              "      <td>Iris-setosa</td>\n",
              "    </tr>\n",
              "    <tr>\n",
              "      <th>2</th>\n",
              "      <td>3</td>\n",
              "      <td>4.7</td>\n",
              "      <td>3.2</td>\n",
              "      <td>1.3</td>\n",
              "      <td>0.2</td>\n",
              "      <td>Iris-setosa</td>\n",
              "    </tr>\n",
              "    <tr>\n",
              "      <th>3</th>\n",
              "      <td>4</td>\n",
              "      <td>4.6</td>\n",
              "      <td>3.1</td>\n",
              "      <td>1.5</td>\n",
              "      <td>0.2</td>\n",
              "      <td>Iris-setosa</td>\n",
              "    </tr>\n",
              "    <tr>\n",
              "      <th>4</th>\n",
              "      <td>5</td>\n",
              "      <td>5.0</td>\n",
              "      <td>3.6</td>\n",
              "      <td>1.4</td>\n",
              "      <td>0.2</td>\n",
              "      <td>Iris-setosa</td>\n",
              "    </tr>\n",
              "  </tbody>\n",
              "</table>\n",
              "</div>"
            ],
            "text/plain": [
              "   Id  SepalLengthCm  SepalWidthCm  PetalLengthCm  PetalWidthCm      Species\n",
              "0   1            5.1           3.5            1.4           0.2  Iris-setosa\n",
              "1   2            4.9           3.0            1.4           0.2  Iris-setosa\n",
              "2   3            4.7           3.2            1.3           0.2  Iris-setosa\n",
              "3   4            4.6           3.1            1.5           0.2  Iris-setosa\n",
              "4   5            5.0           3.6            1.4           0.2  Iris-setosa"
            ]
          },
          "metadata": {},
          "execution_count": 51
        }
      ]
    },
    {
      "cell_type": "code",
      "metadata": {
        "colab": {
          "base_uri": "https://localhost:8080/"
        },
        "id": "sTsCyjxYCLRp",
        "outputId": "f9c4105d-30b4-4440-d5da-0088c4b2c8ee"
      },
      "source": [
        "df['Species'].value_counts()"
      ],
      "execution_count": 52,
      "outputs": [
        {
          "output_type": "execute_result",
          "data": {
            "text/plain": [
              "Iris-virginica     50\n",
              "Iris-versicolor    50\n",
              "Iris-setosa        50\n",
              "Name: Species, dtype: int64"
            ]
          },
          "metadata": {},
          "execution_count": 52
        }
      ]
    },
    {
      "cell_type": "code",
      "metadata": {
        "id": "k1P5yuU5CY1p"
      },
      "source": [
        "# loding the label encoder\n",
        "label_encoder_1 = LabelEncoder()"
      ],
      "execution_count": 53,
      "outputs": []
    },
    {
      "cell_type": "code",
      "metadata": {
        "id": "JcTIUos9DPAx"
      },
      "source": [
        "df_labels = label_encoder_1.fit_transform(df.Species)"
      ],
      "execution_count": 54,
      "outputs": []
    },
    {
      "cell_type": "code",
      "metadata": {
        "id": "2EumLRJlDWAp"
      },
      "source": [
        "df['target'] = df_labels"
      ],
      "execution_count": 55,
      "outputs": []
    },
    {
      "cell_type": "code",
      "metadata": {
        "colab": {
          "base_uri": "https://localhost:8080/",
          "height": 204
        },
        "id": "T3FP6d1CDc-5",
        "outputId": "0d31193e-1924-4224-a1d3-86fd475ce1ad"
      },
      "source": [
        "df.head()"
      ],
      "execution_count": 56,
      "outputs": [
        {
          "output_type": "execute_result",
          "data": {
            "text/html": [
              "<div>\n",
              "<style scoped>\n",
              "    .dataframe tbody tr th:only-of-type {\n",
              "        vertical-align: middle;\n",
              "    }\n",
              "\n",
              "    .dataframe tbody tr th {\n",
              "        vertical-align: top;\n",
              "    }\n",
              "\n",
              "    .dataframe thead th {\n",
              "        text-align: right;\n",
              "    }\n",
              "</style>\n",
              "<table border=\"1\" class=\"dataframe\">\n",
              "  <thead>\n",
              "    <tr style=\"text-align: right;\">\n",
              "      <th></th>\n",
              "      <th>Id</th>\n",
              "      <th>SepalLengthCm</th>\n",
              "      <th>SepalWidthCm</th>\n",
              "      <th>PetalLengthCm</th>\n",
              "      <th>PetalWidthCm</th>\n",
              "      <th>Species</th>\n",
              "      <th>target</th>\n",
              "    </tr>\n",
              "  </thead>\n",
              "  <tbody>\n",
              "    <tr>\n",
              "      <th>0</th>\n",
              "      <td>1</td>\n",
              "      <td>5.1</td>\n",
              "      <td>3.5</td>\n",
              "      <td>1.4</td>\n",
              "      <td>0.2</td>\n",
              "      <td>Iris-setosa</td>\n",
              "      <td>0</td>\n",
              "    </tr>\n",
              "    <tr>\n",
              "      <th>1</th>\n",
              "      <td>2</td>\n",
              "      <td>4.9</td>\n",
              "      <td>3.0</td>\n",
              "      <td>1.4</td>\n",
              "      <td>0.2</td>\n",
              "      <td>Iris-setosa</td>\n",
              "      <td>0</td>\n",
              "    </tr>\n",
              "    <tr>\n",
              "      <th>2</th>\n",
              "      <td>3</td>\n",
              "      <td>4.7</td>\n",
              "      <td>3.2</td>\n",
              "      <td>1.3</td>\n",
              "      <td>0.2</td>\n",
              "      <td>Iris-setosa</td>\n",
              "      <td>0</td>\n",
              "    </tr>\n",
              "    <tr>\n",
              "      <th>3</th>\n",
              "      <td>4</td>\n",
              "      <td>4.6</td>\n",
              "      <td>3.1</td>\n",
              "      <td>1.5</td>\n",
              "      <td>0.2</td>\n",
              "      <td>Iris-setosa</td>\n",
              "      <td>0</td>\n",
              "    </tr>\n",
              "    <tr>\n",
              "      <th>4</th>\n",
              "      <td>5</td>\n",
              "      <td>5.0</td>\n",
              "      <td>3.6</td>\n",
              "      <td>1.4</td>\n",
              "      <td>0.2</td>\n",
              "      <td>Iris-setosa</td>\n",
              "      <td>0</td>\n",
              "    </tr>\n",
              "  </tbody>\n",
              "</table>\n",
              "</div>"
            ],
            "text/plain": [
              "   Id  SepalLengthCm  SepalWidthCm  ...  PetalWidthCm      Species target\n",
              "0   1            5.1           3.5  ...           0.2  Iris-setosa      0\n",
              "1   2            4.9           3.0  ...           0.2  Iris-setosa      0\n",
              "2   3            4.7           3.2  ...           0.2  Iris-setosa      0\n",
              "3   4            4.6           3.1  ...           0.2  Iris-setosa      0\n",
              "4   5            5.0           3.6  ...           0.2  Iris-setosa      0\n",
              "\n",
              "[5 rows x 7 columns]"
            ]
          },
          "metadata": {},
          "execution_count": 56
        }
      ]
    },
    {
      "cell_type": "code",
      "metadata": {
        "colab": {
          "base_uri": "https://localhost:8080/"
        },
        "id": "uxIChYCpElya",
        "outputId": "146abc59-ecd2-4186-856f-fc84b02ffe34"
      },
      "source": [
        "df['target'].value_counts()"
      ],
      "execution_count": 57,
      "outputs": [
        {
          "output_type": "execute_result",
          "data": {
            "text/plain": [
              "2    50\n",
              "1    50\n",
              "0    50\n",
              "Name: target, dtype: int64"
            ]
          },
          "metadata": {},
          "execution_count": 57
        }
      ]
    },
    {
      "cell_type": "code",
      "metadata": {
        "id": "SR6dNQk6E7oa"
      },
      "source": [
        "df['Species']=label_encoder_1.fit_transform(df['Species'])"
      ],
      "execution_count": 61,
      "outputs": []
    },
    {
      "cell_type": "code",
      "metadata": {
        "colab": {
          "base_uri": "https://localhost:8080/",
          "height": 204
        },
        "id": "NQ2PM55xGPIy",
        "outputId": "e8232c21-8d22-4013-e674-ede720b7104b"
      },
      "source": [
        "df.head()"
      ],
      "execution_count": 62,
      "outputs": [
        {
          "output_type": "execute_result",
          "data": {
            "text/html": [
              "<div>\n",
              "<style scoped>\n",
              "    .dataframe tbody tr th:only-of-type {\n",
              "        vertical-align: middle;\n",
              "    }\n",
              "\n",
              "    .dataframe tbody tr th {\n",
              "        vertical-align: top;\n",
              "    }\n",
              "\n",
              "    .dataframe thead th {\n",
              "        text-align: right;\n",
              "    }\n",
              "</style>\n",
              "<table border=\"1\" class=\"dataframe\">\n",
              "  <thead>\n",
              "    <tr style=\"text-align: right;\">\n",
              "      <th></th>\n",
              "      <th>Id</th>\n",
              "      <th>SepalLengthCm</th>\n",
              "      <th>SepalWidthCm</th>\n",
              "      <th>PetalLengthCm</th>\n",
              "      <th>PetalWidthCm</th>\n",
              "      <th>Species</th>\n",
              "      <th>target</th>\n",
              "    </tr>\n",
              "  </thead>\n",
              "  <tbody>\n",
              "    <tr>\n",
              "      <th>0</th>\n",
              "      <td>1</td>\n",
              "      <td>5.1</td>\n",
              "      <td>3.5</td>\n",
              "      <td>1.4</td>\n",
              "      <td>0.2</td>\n",
              "      <td>0</td>\n",
              "      <td>0</td>\n",
              "    </tr>\n",
              "    <tr>\n",
              "      <th>1</th>\n",
              "      <td>2</td>\n",
              "      <td>4.9</td>\n",
              "      <td>3.0</td>\n",
              "      <td>1.4</td>\n",
              "      <td>0.2</td>\n",
              "      <td>0</td>\n",
              "      <td>0</td>\n",
              "    </tr>\n",
              "    <tr>\n",
              "      <th>2</th>\n",
              "      <td>3</td>\n",
              "      <td>4.7</td>\n",
              "      <td>3.2</td>\n",
              "      <td>1.3</td>\n",
              "      <td>0.2</td>\n",
              "      <td>0</td>\n",
              "      <td>0</td>\n",
              "    </tr>\n",
              "    <tr>\n",
              "      <th>3</th>\n",
              "      <td>4</td>\n",
              "      <td>4.6</td>\n",
              "      <td>3.1</td>\n",
              "      <td>1.5</td>\n",
              "      <td>0.2</td>\n",
              "      <td>0</td>\n",
              "      <td>0</td>\n",
              "    </tr>\n",
              "    <tr>\n",
              "      <th>4</th>\n",
              "      <td>5</td>\n",
              "      <td>5.0</td>\n",
              "      <td>3.6</td>\n",
              "      <td>1.4</td>\n",
              "      <td>0.2</td>\n",
              "      <td>0</td>\n",
              "      <td>0</td>\n",
              "    </tr>\n",
              "  </tbody>\n",
              "</table>\n",
              "</div>"
            ],
            "text/plain": [
              "   Id  SepalLengthCm  SepalWidthCm  ...  PetalWidthCm  Species  target\n",
              "0   1            5.1           3.5  ...           0.2        0       0\n",
              "1   2            4.9           3.0  ...           0.2        0       0\n",
              "2   3            4.7           3.2  ...           0.2        0       0\n",
              "3   4            4.6           3.1  ...           0.2        0       0\n",
              "4   5            5.0           3.6  ...           0.2        0       0\n",
              "\n",
              "[5 rows x 7 columns]"
            ]
          },
          "metadata": {},
          "execution_count": 62
        }
      ]
    },
    {
      "cell_type": "code",
      "metadata": {
        "colab": {
          "base_uri": "https://localhost:8080/"
        },
        "id": "94KRECbdGmd7",
        "outputId": "093787ee-0e69-42b8-9caa-c55c2ba2ed6f"
      },
      "source": [
        "df['Species'].value_counts()"
      ],
      "execution_count": 63,
      "outputs": [
        {
          "output_type": "execute_result",
          "data": {
            "text/plain": [
              "2    50\n",
              "1    50\n",
              "0    50\n",
              "Name: Species, dtype: int64"
            ]
          },
          "metadata": {},
          "execution_count": 63
        }
      ]
    },
    {
      "cell_type": "code",
      "metadata": {
        "id": "OsrfQK7sGtV6"
      },
      "source": [
        ""
      ],
      "execution_count": null,
      "outputs": []
    }
  ]
}